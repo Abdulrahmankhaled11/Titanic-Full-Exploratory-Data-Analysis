{
 "cells": [
  {
   "cell_type": "markdown",
   "id": "a4b0de20",
   "metadata": {
    "papermill": {
     "duration": 0.014487,
     "end_time": "2023-02-09T16:23:40.040709",
     "exception": false,
     "start_time": "2023-02-09T16:23:40.026222",
     "status": "completed"
    },
    "tags": []
   },
   "source": [
    "<a id='top'></a>\n",
    "<div class=\"list-group\" id=\"list-tab\" role=\"tablist\">\n",
    "<p style=\"background-color:#1C3C5E ;font-family:newtimeroman;color:white;font-size:300%;text-align:center;border-radius:60px 1px;\">Project Content </p> \n",
    "    \n",
    "<ul style = color:#4A5C70;font-size:160%;>\n",
    "    <li> Import librarries</li>\n",
    "    <li> Read dataset</li>\n",
    "    <li> Get information about data</li>\n",
    "    <li> Data cleaning</li>\n",
    "    <li> Data visualization & getting conclusions</li>\n",
    "</ul>"
   ]
  },
  {
   "cell_type": "markdown",
   "id": "e19c4e64",
   "metadata": {
    "papermill": {
     "duration": 0.012375,
     "end_time": "2023-02-09T16:23:40.066054",
     "exception": false,
     "start_time": "2023-02-09T16:23:40.053679",
     "status": "completed"
    },
    "tags": []
   },
   "source": [
    "<div style=\"color:white;\n",
    "           display:fill;\n",
    "           border-radius:5px;\n",
    "           background-color:#516B87;\n",
    "           font-size:200%;\n",
    "           font-family:Serif;\n",
    "           letter-spacing:0.5px\">\n",
    "\n",
    "<p style=\"padding: 10px;\n",
    "          color:white;\n",
    "          font-size:120%;\n",
    "          text-align:center;\">\n",
    "Import libraries\n",
    "</p>\n",
    "</div>"
   ]
  },
  {
   "cell_type": "code",
   "execution_count": 1,
   "id": "844fa806",
   "metadata": {
    "execution": {
     "iopub.execute_input": "2023-02-09T16:23:40.096570Z",
     "iopub.status.busy": "2023-02-09T16:23:40.095798Z",
     "iopub.status.idle": "2023-02-09T16:23:42.397162Z",
     "shell.execute_reply": "2023-02-09T16:23:42.395834Z"
    },
    "papermill": {
     "duration": 2.320094,
     "end_time": "2023-02-09T16:23:42.400761",
     "exception": false,
     "start_time": "2023-02-09T16:23:40.080667",
     "status": "completed"
    },
    "tags": []
   },
   "outputs": [],
   "source": [
    "import numpy as np\n",
    "import pandas as pd\n",
    "import matplotlib.pyplot as plt\n",
    "import seaborn as sns\n",
    "import missingno as msno\n",
    "import plotly.express as px"
   ]
  },
  {
   "cell_type": "markdown",
   "id": "a44a262f",
   "metadata": {
    "papermill": {
     "duration": 0.012708,
     "end_time": "2023-02-09T16:23:42.427256",
     "exception": false,
     "start_time": "2023-02-09T16:23:42.414548",
     "status": "completed"
    },
    "tags": []
   },
   "source": [
    "<div style=\"color:white;\n",
    "           display:fill;\n",
    "           border-radius:5px;\n",
    "           background-color:#516B87;\n",
    "           font-size:200%;\n",
    "           font-family:Serif;\n",
    "           letter-spacing:0.5px\">\n",
    "\n",
    "<p style=\"padding: 10px;\n",
    "          color:white;\n",
    "          font-size:120%;\n",
    "          text-align:center;\">\n",
    "Read dataset\n",
    "</p>\n",
    "</div>"
   ]
  },
  {
   "cell_type": "code",
   "execution_count": 2,
   "id": "6adf2105",
   "metadata": {
    "execution": {
     "iopub.execute_input": "2023-02-09T16:23:42.455109Z",
     "iopub.status.busy": "2023-02-09T16:23:42.454699Z",
     "iopub.status.idle": "2023-02-09T16:23:42.475366Z",
     "shell.execute_reply": "2023-02-09T16:23:42.474094Z"
    },
    "papermill": {
     "duration": 0.038218,
     "end_time": "2023-02-09T16:23:42.478481",
     "exception": false,
     "start_time": "2023-02-09T16:23:42.440263",
     "status": "completed"
    },
    "tags": []
   },
   "outputs": [],
   "source": [
    "df = pd.read_csv(\"/kaggle/input/titanic/train.csv\")"
   ]
  },
  {
   "cell_type": "markdown",
   "id": "3004eb99",
   "metadata": {
    "papermill": {
     "duration": 0.012589,
     "end_time": "2023-02-09T16:23:42.504121",
     "exception": false,
     "start_time": "2023-02-09T16:23:42.491532",
     "status": "completed"
    },
    "tags": []
   },
   "source": [
    "<div style=\"color:white;\n",
    "           display:fill;\n",
    "           border-radius:5px;\n",
    "           background-color:#516B87;\n",
    "           font-size:200%;\n",
    "           font-family:Serif;\n",
    "           letter-spacing:0.5px\">\n",
    "\n",
    "<p style=\"padding: 10px;\n",
    "          color:white;\n",
    "          font-size:120%;\n",
    "          text-align:center;\">\n",
    "Get information about data\n",
    "</p>\n",
    "</div>"
   ]
  },
  {
   "cell_type": "code",
   "execution_count": 3,
   "id": "3e05c901",
   "metadata": {
    "execution": {
     "iopub.execute_input": "2023-02-09T16:23:42.532454Z",
     "iopub.status.busy": "2023-02-09T16:23:42.531346Z",
     "iopub.status.idle": "2023-02-09T16:23:42.558361Z",
     "shell.execute_reply": "2023-02-09T16:23:42.557148Z"
    },
    "papermill": {
     "duration": 0.044297,
     "end_time": "2023-02-09T16:23:42.561311",
     "exception": false,
     "start_time": "2023-02-09T16:23:42.517014",
     "status": "completed"
    },
    "tags": []
   },
   "outputs": [
    {
     "data": {
      "text/html": [
       "<div>\n",
       "<style scoped>\n",
       "    .dataframe tbody tr th:only-of-type {\n",
       "        vertical-align: middle;\n",
       "    }\n",
       "\n",
       "    .dataframe tbody tr th {\n",
       "        vertical-align: top;\n",
       "    }\n",
       "\n",
       "    .dataframe thead th {\n",
       "        text-align: right;\n",
       "    }\n",
       "</style>\n",
       "<table border=\"1\" class=\"dataframe\">\n",
       "  <thead>\n",
       "    <tr style=\"text-align: right;\">\n",
       "      <th></th>\n",
       "      <th>PassengerId</th>\n",
       "      <th>Survived</th>\n",
       "      <th>Pclass</th>\n",
       "      <th>Name</th>\n",
       "      <th>Sex</th>\n",
       "      <th>Age</th>\n",
       "      <th>SibSp</th>\n",
       "      <th>Parch</th>\n",
       "      <th>Ticket</th>\n",
       "      <th>Fare</th>\n",
       "      <th>Cabin</th>\n",
       "      <th>Embarked</th>\n",
       "    </tr>\n",
       "  </thead>\n",
       "  <tbody>\n",
       "    <tr>\n",
       "      <th>0</th>\n",
       "      <td>1</td>\n",
       "      <td>0</td>\n",
       "      <td>3</td>\n",
       "      <td>Braund, Mr. Owen Harris</td>\n",
       "      <td>male</td>\n",
       "      <td>22.0</td>\n",
       "      <td>1</td>\n",
       "      <td>0</td>\n",
       "      <td>A/5 21171</td>\n",
       "      <td>7.2500</td>\n",
       "      <td>NaN</td>\n",
       "      <td>S</td>\n",
       "    </tr>\n",
       "    <tr>\n",
       "      <th>1</th>\n",
       "      <td>2</td>\n",
       "      <td>1</td>\n",
       "      <td>1</td>\n",
       "      <td>Cumings, Mrs. John Bradley (Florence Briggs Th...</td>\n",
       "      <td>female</td>\n",
       "      <td>38.0</td>\n",
       "      <td>1</td>\n",
       "      <td>0</td>\n",
       "      <td>PC 17599</td>\n",
       "      <td>71.2833</td>\n",
       "      <td>C85</td>\n",
       "      <td>C</td>\n",
       "    </tr>\n",
       "    <tr>\n",
       "      <th>2</th>\n",
       "      <td>3</td>\n",
       "      <td>1</td>\n",
       "      <td>3</td>\n",
       "      <td>Heikkinen, Miss. Laina</td>\n",
       "      <td>female</td>\n",
       "      <td>26.0</td>\n",
       "      <td>0</td>\n",
       "      <td>0</td>\n",
       "      <td>STON/O2. 3101282</td>\n",
       "      <td>7.9250</td>\n",
       "      <td>NaN</td>\n",
       "      <td>S</td>\n",
       "    </tr>\n",
       "    <tr>\n",
       "      <th>3</th>\n",
       "      <td>4</td>\n",
       "      <td>1</td>\n",
       "      <td>1</td>\n",
       "      <td>Futrelle, Mrs. Jacques Heath (Lily May Peel)</td>\n",
       "      <td>female</td>\n",
       "      <td>35.0</td>\n",
       "      <td>1</td>\n",
       "      <td>0</td>\n",
       "      <td>113803</td>\n",
       "      <td>53.1000</td>\n",
       "      <td>C123</td>\n",
       "      <td>S</td>\n",
       "    </tr>\n",
       "    <tr>\n",
       "      <th>4</th>\n",
       "      <td>5</td>\n",
       "      <td>0</td>\n",
       "      <td>3</td>\n",
       "      <td>Allen, Mr. William Henry</td>\n",
       "      <td>male</td>\n",
       "      <td>35.0</td>\n",
       "      <td>0</td>\n",
       "      <td>0</td>\n",
       "      <td>373450</td>\n",
       "      <td>8.0500</td>\n",
       "      <td>NaN</td>\n",
       "      <td>S</td>\n",
       "    </tr>\n",
       "  </tbody>\n",
       "</table>\n",
       "</div>"
      ],
      "text/plain": [
       "   PassengerId  Survived  Pclass  \\\n",
       "0            1         0       3   \n",
       "1            2         1       1   \n",
       "2            3         1       3   \n",
       "3            4         1       1   \n",
       "4            5         0       3   \n",
       "\n",
       "                                                Name     Sex   Age  SibSp  \\\n",
       "0                            Braund, Mr. Owen Harris    male  22.0      1   \n",
       "1  Cumings, Mrs. John Bradley (Florence Briggs Th...  female  38.0      1   \n",
       "2                             Heikkinen, Miss. Laina  female  26.0      0   \n",
       "3       Futrelle, Mrs. Jacques Heath (Lily May Peel)  female  35.0      1   \n",
       "4                           Allen, Mr. William Henry    male  35.0      0   \n",
       "\n",
       "   Parch            Ticket     Fare Cabin Embarked  \n",
       "0      0         A/5 21171   7.2500   NaN        S  \n",
       "1      0          PC 17599  71.2833   C85        C  \n",
       "2      0  STON/O2. 3101282   7.9250   NaN        S  \n",
       "3      0            113803  53.1000  C123        S  \n",
       "4      0            373450   8.0500   NaN        S  "
      ]
     },
     "execution_count": 3,
     "metadata": {},
     "output_type": "execute_result"
    }
   ],
   "source": [
    "df.head()"
   ]
  },
  {
   "cell_type": "code",
   "execution_count": 4,
   "id": "a0d7a60b",
   "metadata": {
    "execution": {
     "iopub.execute_input": "2023-02-09T16:23:42.590842Z",
     "iopub.status.busy": "2023-02-09T16:23:42.589556Z",
     "iopub.status.idle": "2023-02-09T16:23:42.611593Z",
     "shell.execute_reply": "2023-02-09T16:23:42.610370Z"
    },
    "papermill": {
     "duration": 0.039516,
     "end_time": "2023-02-09T16:23:42.614150",
     "exception": false,
     "start_time": "2023-02-09T16:23:42.574634",
     "status": "completed"
    },
    "tags": []
   },
   "outputs": [
    {
     "data": {
      "text/html": [
       "<div>\n",
       "<style scoped>\n",
       "    .dataframe tbody tr th:only-of-type {\n",
       "        vertical-align: middle;\n",
       "    }\n",
       "\n",
       "    .dataframe tbody tr th {\n",
       "        vertical-align: top;\n",
       "    }\n",
       "\n",
       "    .dataframe thead th {\n",
       "        text-align: right;\n",
       "    }\n",
       "</style>\n",
       "<table border=\"1\" class=\"dataframe\">\n",
       "  <thead>\n",
       "    <tr style=\"text-align: right;\">\n",
       "      <th></th>\n",
       "      <th>PassengerId</th>\n",
       "      <th>Survived</th>\n",
       "      <th>Pclass</th>\n",
       "      <th>Name</th>\n",
       "      <th>Sex</th>\n",
       "      <th>Age</th>\n",
       "      <th>SibSp</th>\n",
       "      <th>Parch</th>\n",
       "      <th>Ticket</th>\n",
       "      <th>Fare</th>\n",
       "      <th>Cabin</th>\n",
       "      <th>Embarked</th>\n",
       "    </tr>\n",
       "  </thead>\n",
       "  <tbody>\n",
       "    <tr>\n",
       "      <th>75</th>\n",
       "      <td>76</td>\n",
       "      <td>0</td>\n",
       "      <td>3</td>\n",
       "      <td>Moen, Mr. Sigurd Hansen</td>\n",
       "      <td>male</td>\n",
       "      <td>25.0</td>\n",
       "      <td>0</td>\n",
       "      <td>0</td>\n",
       "      <td>348123</td>\n",
       "      <td>7.6500</td>\n",
       "      <td>F G73</td>\n",
       "      <td>S</td>\n",
       "    </tr>\n",
       "    <tr>\n",
       "      <th>357</th>\n",
       "      <td>358</td>\n",
       "      <td>0</td>\n",
       "      <td>2</td>\n",
       "      <td>Funk, Miss. Annie Clemmer</td>\n",
       "      <td>female</td>\n",
       "      <td>38.0</td>\n",
       "      <td>0</td>\n",
       "      <td>0</td>\n",
       "      <td>237671</td>\n",
       "      <td>13.0000</td>\n",
       "      <td>NaN</td>\n",
       "      <td>S</td>\n",
       "    </tr>\n",
       "    <tr>\n",
       "      <th>779</th>\n",
       "      <td>780</td>\n",
       "      <td>1</td>\n",
       "      <td>1</td>\n",
       "      <td>Robert, Mrs. Edward Scott (Elisabeth Walton Mc...</td>\n",
       "      <td>female</td>\n",
       "      <td>43.0</td>\n",
       "      <td>0</td>\n",
       "      <td>1</td>\n",
       "      <td>24160</td>\n",
       "      <td>211.3375</td>\n",
       "      <td>B3</td>\n",
       "      <td>S</td>\n",
       "    </tr>\n",
       "    <tr>\n",
       "      <th>761</th>\n",
       "      <td>762</td>\n",
       "      <td>0</td>\n",
       "      <td>3</td>\n",
       "      <td>Nirva, Mr. Iisakki Antino Aijo</td>\n",
       "      <td>male</td>\n",
       "      <td>41.0</td>\n",
       "      <td>0</td>\n",
       "      <td>0</td>\n",
       "      <td>SOTON/O2 3101272</td>\n",
       "      <td>7.1250</td>\n",
       "      <td>NaN</td>\n",
       "      <td>S</td>\n",
       "    </tr>\n",
       "    <tr>\n",
       "      <th>157</th>\n",
       "      <td>158</td>\n",
       "      <td>0</td>\n",
       "      <td>3</td>\n",
       "      <td>Corn, Mr. Harry</td>\n",
       "      <td>male</td>\n",
       "      <td>30.0</td>\n",
       "      <td>0</td>\n",
       "      <td>0</td>\n",
       "      <td>SOTON/OQ 392090</td>\n",
       "      <td>8.0500</td>\n",
       "      <td>NaN</td>\n",
       "      <td>S</td>\n",
       "    </tr>\n",
       "    <tr>\n",
       "      <th>329</th>\n",
       "      <td>330</td>\n",
       "      <td>1</td>\n",
       "      <td>1</td>\n",
       "      <td>Hippach, Miss. Jean Gertrude</td>\n",
       "      <td>female</td>\n",
       "      <td>16.0</td>\n",
       "      <td>0</td>\n",
       "      <td>1</td>\n",
       "      <td>111361</td>\n",
       "      <td>57.9792</td>\n",
       "      <td>B18</td>\n",
       "      <td>C</td>\n",
       "    </tr>\n",
       "  </tbody>\n",
       "</table>\n",
       "</div>"
      ],
      "text/plain": [
       "     PassengerId  Survived  Pclass  \\\n",
       "75            76         0       3   \n",
       "357          358         0       2   \n",
       "779          780         1       1   \n",
       "761          762         0       3   \n",
       "157          158         0       3   \n",
       "329          330         1       1   \n",
       "\n",
       "                                                  Name     Sex   Age  SibSp  \\\n",
       "75                             Moen, Mr. Sigurd Hansen    male  25.0      0   \n",
       "357                          Funk, Miss. Annie Clemmer  female  38.0      0   \n",
       "779  Robert, Mrs. Edward Scott (Elisabeth Walton Mc...  female  43.0      0   \n",
       "761                     Nirva, Mr. Iisakki Antino Aijo    male  41.0      0   \n",
       "157                                    Corn, Mr. Harry    male  30.0      0   \n",
       "329                       Hippach, Miss. Jean Gertrude  female  16.0      0   \n",
       "\n",
       "     Parch            Ticket      Fare  Cabin Embarked  \n",
       "75       0            348123    7.6500  F G73        S  \n",
       "357      0            237671   13.0000    NaN        S  \n",
       "779      1             24160  211.3375     B3        S  \n",
       "761      0  SOTON/O2 3101272    7.1250    NaN        S  \n",
       "157      0   SOTON/OQ 392090    8.0500    NaN        S  \n",
       "329      1            111361   57.9792    B18        C  "
      ]
     },
     "execution_count": 4,
     "metadata": {},
     "output_type": "execute_result"
    }
   ],
   "source": [
    "df.sample(6)"
   ]
  },
  {
   "cell_type": "code",
   "execution_count": 5,
   "id": "0202e7b2",
   "metadata": {
    "execution": {
     "iopub.execute_input": "2023-02-09T16:23:42.644682Z",
     "iopub.status.busy": "2023-02-09T16:23:42.643826Z",
     "iopub.status.idle": "2023-02-09T16:23:42.651750Z",
     "shell.execute_reply": "2023-02-09T16:23:42.650684Z"
    },
    "papermill": {
     "duration": 0.025687,
     "end_time": "2023-02-09T16:23:42.654237",
     "exception": false,
     "start_time": "2023-02-09T16:23:42.628550",
     "status": "completed"
    },
    "tags": []
   },
   "outputs": [
    {
     "data": {
      "text/plain": [
       "Index(['PassengerId', 'Survived', 'Pclass', 'Name', 'Sex', 'Age', 'SibSp',\n",
       "       'Parch', 'Ticket', 'Fare', 'Cabin', 'Embarked'],\n",
       "      dtype='object')"
      ]
     },
     "execution_count": 5,
     "metadata": {},
     "output_type": "execute_result"
    }
   ],
   "source": [
    "df.columns"
   ]
  },
  {
   "cell_type": "code",
   "execution_count": 6,
   "id": "82aa7e63",
   "metadata": {
    "execution": {
     "iopub.execute_input": "2023-02-09T16:23:42.683513Z",
     "iopub.status.busy": "2023-02-09T16:23:42.683070Z",
     "iopub.status.idle": "2023-02-09T16:23:42.709869Z",
     "shell.execute_reply": "2023-02-09T16:23:42.708291Z"
    },
    "papermill": {
     "duration": 0.045508,
     "end_time": "2023-02-09T16:23:42.713518",
     "exception": false,
     "start_time": "2023-02-09T16:23:42.668010",
     "status": "completed"
    },
    "tags": []
   },
   "outputs": [
    {
     "name": "stdout",
     "output_type": "stream",
     "text": [
      "<class 'pandas.core.frame.DataFrame'>\n",
      "RangeIndex: 891 entries, 0 to 890\n",
      "Data columns (total 12 columns):\n",
      " #   Column       Non-Null Count  Dtype  \n",
      "---  ------       --------------  -----  \n",
      " 0   PassengerId  891 non-null    int64  \n",
      " 1   Survived     891 non-null    int64  \n",
      " 2   Pclass       891 non-null    int64  \n",
      " 3   Name         891 non-null    object \n",
      " 4   Sex          891 non-null    object \n",
      " 5   Age          714 non-null    float64\n",
      " 6   SibSp        891 non-null    int64  \n",
      " 7   Parch        891 non-null    int64  \n",
      " 8   Ticket       891 non-null    object \n",
      " 9   Fare         891 non-null    float64\n",
      " 10  Cabin        204 non-null    object \n",
      " 11  Embarked     889 non-null    object \n",
      "dtypes: float64(2), int64(5), object(5)\n",
      "memory usage: 83.7+ KB\n"
     ]
    }
   ],
   "source": [
    "df.info()"
   ]
  },
  {
   "cell_type": "code",
   "execution_count": 7,
   "id": "812a50b3",
   "metadata": {
    "execution": {
     "iopub.execute_input": "2023-02-09T16:23:42.743864Z",
     "iopub.status.busy": "2023-02-09T16:23:42.742734Z",
     "iopub.status.idle": "2023-02-09T16:23:42.778036Z",
     "shell.execute_reply": "2023-02-09T16:23:42.776576Z"
    },
    "papermill": {
     "duration": 0.053235,
     "end_time": "2023-02-09T16:23:42.781066",
     "exception": false,
     "start_time": "2023-02-09T16:23:42.727831",
     "status": "completed"
    },
    "tags": []
   },
   "outputs": [
    {
     "data": {
      "text/html": [
       "<div>\n",
       "<style scoped>\n",
       "    .dataframe tbody tr th:only-of-type {\n",
       "        vertical-align: middle;\n",
       "    }\n",
       "\n",
       "    .dataframe tbody tr th {\n",
       "        vertical-align: top;\n",
       "    }\n",
       "\n",
       "    .dataframe thead th {\n",
       "        text-align: right;\n",
       "    }\n",
       "</style>\n",
       "<table border=\"1\" class=\"dataframe\">\n",
       "  <thead>\n",
       "    <tr style=\"text-align: right;\">\n",
       "      <th></th>\n",
       "      <th>PassengerId</th>\n",
       "      <th>Survived</th>\n",
       "      <th>Pclass</th>\n",
       "      <th>Age</th>\n",
       "      <th>SibSp</th>\n",
       "      <th>Parch</th>\n",
       "      <th>Fare</th>\n",
       "    </tr>\n",
       "  </thead>\n",
       "  <tbody>\n",
       "    <tr>\n",
       "      <th>count</th>\n",
       "      <td>891.000000</td>\n",
       "      <td>891.000000</td>\n",
       "      <td>891.000000</td>\n",
       "      <td>714.000000</td>\n",
       "      <td>891.000000</td>\n",
       "      <td>891.000000</td>\n",
       "      <td>891.000000</td>\n",
       "    </tr>\n",
       "    <tr>\n",
       "      <th>mean</th>\n",
       "      <td>446.000000</td>\n",
       "      <td>0.383838</td>\n",
       "      <td>2.308642</td>\n",
       "      <td>29.699118</td>\n",
       "      <td>0.523008</td>\n",
       "      <td>0.381594</td>\n",
       "      <td>32.204208</td>\n",
       "    </tr>\n",
       "    <tr>\n",
       "      <th>std</th>\n",
       "      <td>257.353842</td>\n",
       "      <td>0.486592</td>\n",
       "      <td>0.836071</td>\n",
       "      <td>14.526497</td>\n",
       "      <td>1.102743</td>\n",
       "      <td>0.806057</td>\n",
       "      <td>49.693429</td>\n",
       "    </tr>\n",
       "    <tr>\n",
       "      <th>min</th>\n",
       "      <td>1.000000</td>\n",
       "      <td>0.000000</td>\n",
       "      <td>1.000000</td>\n",
       "      <td>0.420000</td>\n",
       "      <td>0.000000</td>\n",
       "      <td>0.000000</td>\n",
       "      <td>0.000000</td>\n",
       "    </tr>\n",
       "    <tr>\n",
       "      <th>25%</th>\n",
       "      <td>223.500000</td>\n",
       "      <td>0.000000</td>\n",
       "      <td>2.000000</td>\n",
       "      <td>20.125000</td>\n",
       "      <td>0.000000</td>\n",
       "      <td>0.000000</td>\n",
       "      <td>7.910400</td>\n",
       "    </tr>\n",
       "    <tr>\n",
       "      <th>50%</th>\n",
       "      <td>446.000000</td>\n",
       "      <td>0.000000</td>\n",
       "      <td>3.000000</td>\n",
       "      <td>28.000000</td>\n",
       "      <td>0.000000</td>\n",
       "      <td>0.000000</td>\n",
       "      <td>14.454200</td>\n",
       "    </tr>\n",
       "    <tr>\n",
       "      <th>75%</th>\n",
       "      <td>668.500000</td>\n",
       "      <td>1.000000</td>\n",
       "      <td>3.000000</td>\n",
       "      <td>38.000000</td>\n",
       "      <td>1.000000</td>\n",
       "      <td>0.000000</td>\n",
       "      <td>31.000000</td>\n",
       "    </tr>\n",
       "    <tr>\n",
       "      <th>max</th>\n",
       "      <td>891.000000</td>\n",
       "      <td>1.000000</td>\n",
       "      <td>3.000000</td>\n",
       "      <td>80.000000</td>\n",
       "      <td>8.000000</td>\n",
       "      <td>6.000000</td>\n",
       "      <td>512.329200</td>\n",
       "    </tr>\n",
       "  </tbody>\n",
       "</table>\n",
       "</div>"
      ],
      "text/plain": [
       "       PassengerId    Survived      Pclass         Age       SibSp  \\\n",
       "count   891.000000  891.000000  891.000000  714.000000  891.000000   \n",
       "mean    446.000000    0.383838    2.308642   29.699118    0.523008   \n",
       "std     257.353842    0.486592    0.836071   14.526497    1.102743   \n",
       "min       1.000000    0.000000    1.000000    0.420000    0.000000   \n",
       "25%     223.500000    0.000000    2.000000   20.125000    0.000000   \n",
       "50%     446.000000    0.000000    3.000000   28.000000    0.000000   \n",
       "75%     668.500000    1.000000    3.000000   38.000000    1.000000   \n",
       "max     891.000000    1.000000    3.000000   80.000000    8.000000   \n",
       "\n",
       "            Parch        Fare  \n",
       "count  891.000000  891.000000  \n",
       "mean     0.381594   32.204208  \n",
       "std      0.806057   49.693429  \n",
       "min      0.000000    0.000000  \n",
       "25%      0.000000    7.910400  \n",
       "50%      0.000000   14.454200  \n",
       "75%      0.000000   31.000000  \n",
       "max      6.000000  512.329200  "
      ]
     },
     "execution_count": 7,
     "metadata": {},
     "output_type": "execute_result"
    }
   ],
   "source": [
    "df.describe()"
   ]
  },
  {
   "cell_type": "markdown",
   "id": "e0d98037",
   "metadata": {
    "papermill": {
     "duration": 0.013627,
     "end_time": "2023-02-09T16:23:42.809130",
     "exception": false,
     "start_time": "2023-02-09T16:23:42.795503",
     "status": "completed"
    },
    "tags": []
   },
   "source": [
    "<div style=\"color:white;\n",
    "           display:fill;\n",
    "           border-radius:5px;\n",
    "           background-color:#516B87;\n",
    "           font-size:200%;\n",
    "           font-family:Serif;\n",
    "           letter-spacing:0.5px\">\n",
    "\n",
    "<p style=\"padding: 10px;\n",
    "          color:white;\n",
    "          font-size:120%;\n",
    "          text-align:center;\">\n",
    "Data Cleaning\n",
    "</p>\n",
    "</div>"
   ]
  },
  {
   "cell_type": "markdown",
   "id": "eec90550",
   "metadata": {
    "papermill": {
     "duration": 0.013599,
     "end_time": "2023-02-09T16:23:42.836693",
     "exception": false,
     "start_time": "2023-02-09T16:23:42.823094",
     "status": "completed"
    },
    "tags": []
   },
   "source": [
    "<p style=\"background-color:#808E9C;color:white;font-size:200%;\"> Un Necessary columns </p>"
   ]
  },
  {
   "cell_type": "code",
   "execution_count": 8,
   "id": "ac08a97c",
   "metadata": {
    "execution": {
     "iopub.execute_input": "2023-02-09T16:23:42.866870Z",
     "iopub.status.busy": "2023-02-09T16:23:42.866416Z",
     "iopub.status.idle": "2023-02-09T16:23:42.873419Z",
     "shell.execute_reply": "2023-02-09T16:23:42.872185Z"
    },
    "papermill": {
     "duration": 0.024974,
     "end_time": "2023-02-09T16:23:42.875819",
     "exception": false,
     "start_time": "2023-02-09T16:23:42.850845",
     "status": "completed"
    },
    "tags": []
   },
   "outputs": [],
   "source": [
    "df.drop(['PassengerId', 'Name','Ticket'],axis=1,inplace=True)"
   ]
  },
  {
   "cell_type": "markdown",
   "id": "a53c0f2a",
   "metadata": {
    "papermill": {
     "duration": 0.013555,
     "end_time": "2023-02-09T16:23:42.904116",
     "exception": false,
     "start_time": "2023-02-09T16:23:42.890561",
     "status": "completed"
    },
    "tags": []
   },
   "source": [
    "<p style=\"color:#2965A5;\n",
    "          font-size:22px;\"> -> Un necessary columns removed </p>"
   ]
  },
  {
   "cell_type": "markdown",
   "id": "25a5f58d",
   "metadata": {
    "papermill": {
     "duration": 0.013442,
     "end_time": "2023-02-09T16:23:42.931504",
     "exception": false,
     "start_time": "2023-02-09T16:23:42.918062",
     "status": "completed"
    },
    "tags": []
   },
   "source": [
    "<p style=\"background-color:#808E9C;color:white;font-size:200%;\"> Remove Duplicates </p>"
   ]
  },
  {
   "cell_type": "code",
   "execution_count": 9,
   "id": "d8711e7c",
   "metadata": {
    "execution": {
     "iopub.execute_input": "2023-02-09T16:23:42.961912Z",
     "iopub.status.busy": "2023-02-09T16:23:42.960997Z",
     "iopub.status.idle": "2023-02-09T16:23:42.987564Z",
     "shell.execute_reply": "2023-02-09T16:23:42.986237Z"
    },
    "papermill": {
     "duration": 0.044313,
     "end_time": "2023-02-09T16:23:42.990058",
     "exception": false,
     "start_time": "2023-02-09T16:23:42.945745",
     "status": "completed"
    },
    "tags": []
   },
   "outputs": [
    {
     "data": {
      "text/html": [
       "<div>\n",
       "<style scoped>\n",
       "    .dataframe tbody tr th:only-of-type {\n",
       "        vertical-align: middle;\n",
       "    }\n",
       "\n",
       "    .dataframe tbody tr th {\n",
       "        vertical-align: top;\n",
       "    }\n",
       "\n",
       "    .dataframe thead th {\n",
       "        text-align: right;\n",
       "    }\n",
       "</style>\n",
       "<table border=\"1\" class=\"dataframe\">\n",
       "  <thead>\n",
       "    <tr style=\"text-align: right;\">\n",
       "      <th></th>\n",
       "      <th>Survived</th>\n",
       "      <th>Pclass</th>\n",
       "      <th>Sex</th>\n",
       "      <th>Age</th>\n",
       "      <th>SibSp</th>\n",
       "      <th>Parch</th>\n",
       "      <th>Fare</th>\n",
       "      <th>Cabin</th>\n",
       "      <th>Embarked</th>\n",
       "    </tr>\n",
       "  </thead>\n",
       "  <tbody>\n",
       "    <tr>\n",
       "      <th>47</th>\n",
       "      <td>1</td>\n",
       "      <td>3</td>\n",
       "      <td>female</td>\n",
       "      <td>NaN</td>\n",
       "      <td>0</td>\n",
       "      <td>0</td>\n",
       "      <td>7.7500</td>\n",
       "      <td>NaN</td>\n",
       "      <td>Q</td>\n",
       "    </tr>\n",
       "    <tr>\n",
       "      <th>76</th>\n",
       "      <td>0</td>\n",
       "      <td>3</td>\n",
       "      <td>male</td>\n",
       "      <td>NaN</td>\n",
       "      <td>0</td>\n",
       "      <td>0</td>\n",
       "      <td>7.8958</td>\n",
       "      <td>NaN</td>\n",
       "      <td>S</td>\n",
       "    </tr>\n",
       "    <tr>\n",
       "      <th>77</th>\n",
       "      <td>0</td>\n",
       "      <td>3</td>\n",
       "      <td>male</td>\n",
       "      <td>NaN</td>\n",
       "      <td>0</td>\n",
       "      <td>0</td>\n",
       "      <td>8.0500</td>\n",
       "      <td>NaN</td>\n",
       "      <td>S</td>\n",
       "    </tr>\n",
       "    <tr>\n",
       "      <th>87</th>\n",
       "      <td>0</td>\n",
       "      <td>3</td>\n",
       "      <td>male</td>\n",
       "      <td>NaN</td>\n",
       "      <td>0</td>\n",
       "      <td>0</td>\n",
       "      <td>8.0500</td>\n",
       "      <td>NaN</td>\n",
       "      <td>S</td>\n",
       "    </tr>\n",
       "    <tr>\n",
       "      <th>95</th>\n",
       "      <td>0</td>\n",
       "      <td>3</td>\n",
       "      <td>male</td>\n",
       "      <td>NaN</td>\n",
       "      <td>0</td>\n",
       "      <td>0</td>\n",
       "      <td>8.0500</td>\n",
       "      <td>NaN</td>\n",
       "      <td>S</td>\n",
       "    </tr>\n",
       "    <tr>\n",
       "      <th>...</th>\n",
       "      <td>...</td>\n",
       "      <td>...</td>\n",
       "      <td>...</td>\n",
       "      <td>...</td>\n",
       "      <td>...</td>\n",
       "      <td>...</td>\n",
       "      <td>...</td>\n",
       "      <td>...</td>\n",
       "      <td>...</td>\n",
       "    </tr>\n",
       "    <tr>\n",
       "      <th>870</th>\n",
       "      <td>0</td>\n",
       "      <td>3</td>\n",
       "      <td>male</td>\n",
       "      <td>26.0</td>\n",
       "      <td>0</td>\n",
       "      <td>0</td>\n",
       "      <td>7.8958</td>\n",
       "      <td>NaN</td>\n",
       "      <td>S</td>\n",
       "    </tr>\n",
       "    <tr>\n",
       "      <th>877</th>\n",
       "      <td>0</td>\n",
       "      <td>3</td>\n",
       "      <td>male</td>\n",
       "      <td>19.0</td>\n",
       "      <td>0</td>\n",
       "      <td>0</td>\n",
       "      <td>7.8958</td>\n",
       "      <td>NaN</td>\n",
       "      <td>S</td>\n",
       "    </tr>\n",
       "    <tr>\n",
       "      <th>878</th>\n",
       "      <td>0</td>\n",
       "      <td>3</td>\n",
       "      <td>male</td>\n",
       "      <td>NaN</td>\n",
       "      <td>0</td>\n",
       "      <td>0</td>\n",
       "      <td>7.8958</td>\n",
       "      <td>NaN</td>\n",
       "      <td>S</td>\n",
       "    </tr>\n",
       "    <tr>\n",
       "      <th>884</th>\n",
       "      <td>0</td>\n",
       "      <td>3</td>\n",
       "      <td>male</td>\n",
       "      <td>25.0</td>\n",
       "      <td>0</td>\n",
       "      <td>0</td>\n",
       "      <td>7.0500</td>\n",
       "      <td>NaN</td>\n",
       "      <td>S</td>\n",
       "    </tr>\n",
       "    <tr>\n",
       "      <th>886</th>\n",
       "      <td>0</td>\n",
       "      <td>2</td>\n",
       "      <td>male</td>\n",
       "      <td>27.0</td>\n",
       "      <td>0</td>\n",
       "      <td>0</td>\n",
       "      <td>13.0000</td>\n",
       "      <td>NaN</td>\n",
       "      <td>S</td>\n",
       "    </tr>\n",
       "  </tbody>\n",
       "</table>\n",
       "<p>107 rows × 9 columns</p>\n",
       "</div>"
      ],
      "text/plain": [
       "     Survived  Pclass     Sex   Age  SibSp  Parch     Fare Cabin Embarked\n",
       "47          1       3  female   NaN      0      0   7.7500   NaN        Q\n",
       "76          0       3    male   NaN      0      0   7.8958   NaN        S\n",
       "77          0       3    male   NaN      0      0   8.0500   NaN        S\n",
       "87          0       3    male   NaN      0      0   8.0500   NaN        S\n",
       "95          0       3    male   NaN      0      0   8.0500   NaN        S\n",
       "..        ...     ...     ...   ...    ...    ...      ...   ...      ...\n",
       "870         0       3    male  26.0      0      0   7.8958   NaN        S\n",
       "877         0       3    male  19.0      0      0   7.8958   NaN        S\n",
       "878         0       3    male   NaN      0      0   7.8958   NaN        S\n",
       "884         0       3    male  25.0      0      0   7.0500   NaN        S\n",
       "886         0       2    male  27.0      0      0  13.0000   NaN        S\n",
       "\n",
       "[107 rows x 9 columns]"
      ]
     },
     "execution_count": 9,
     "metadata": {},
     "output_type": "execute_result"
    }
   ],
   "source": [
    "df[df.duplicated()]"
   ]
  },
  {
   "cell_type": "code",
   "execution_count": 10,
   "id": "a0f1b568",
   "metadata": {
    "execution": {
     "iopub.execute_input": "2023-02-09T16:23:43.021257Z",
     "iopub.status.busy": "2023-02-09T16:23:43.020396Z",
     "iopub.status.idle": "2023-02-09T16:23:43.028190Z",
     "shell.execute_reply": "2023-02-09T16:23:43.027157Z"
    },
    "papermill": {
     "duration": 0.026462,
     "end_time": "2023-02-09T16:23:43.030775",
     "exception": false,
     "start_time": "2023-02-09T16:23:43.004313",
     "status": "completed"
    },
    "tags": []
   },
   "outputs": [],
   "source": [
    "df.drop_duplicates(inplace=True)"
   ]
  },
  {
   "cell_type": "markdown",
   "id": "7a072b32",
   "metadata": {
    "papermill": {
     "duration": 0.014427,
     "end_time": "2023-02-09T16:23:43.060160",
     "exception": false,
     "start_time": "2023-02-09T16:23:43.045733",
     "status": "completed"
    },
    "tags": []
   },
   "source": [
    "<p style=\"color:#2965A5;\n",
    "          font-size:22px;\"> -> Duplicates removed </p>"
   ]
  },
  {
   "cell_type": "markdown",
   "id": "a88e310d",
   "metadata": {
    "papermill": {
     "duration": 0.014243,
     "end_time": "2023-02-09T16:23:43.088721",
     "exception": false,
     "start_time": "2023-02-09T16:23:43.074478",
     "status": "completed"
    },
    "tags": []
   },
   "source": [
    "<p style=\"background-color:#808E9C;color:white;font-size:200%;\"> Null data handling </p>"
   ]
  },
  {
   "cell_type": "code",
   "execution_count": 11,
   "id": "5266a32c",
   "metadata": {
    "execution": {
     "iopub.execute_input": "2023-02-09T16:23:43.119559Z",
     "iopub.status.busy": "2023-02-09T16:23:43.118731Z",
     "iopub.status.idle": "2023-02-09T16:23:43.129657Z",
     "shell.execute_reply": "2023-02-09T16:23:43.128211Z"
    },
    "papermill": {
     "duration": 0.029596,
     "end_time": "2023-02-09T16:23:43.132565",
     "exception": false,
     "start_time": "2023-02-09T16:23:43.102969",
     "status": "completed"
    },
    "tags": []
   },
   "outputs": [
    {
     "data": {
      "text/plain": [
       "Survived      0\n",
       "Pclass        0\n",
       "Sex           0\n",
       "Age         106\n",
       "SibSp         0\n",
       "Parch         0\n",
       "Fare          0\n",
       "Cabin       581\n",
       "Embarked      2\n",
       "dtype: int64"
      ]
     },
     "execution_count": 11,
     "metadata": {},
     "output_type": "execute_result"
    }
   ],
   "source": [
    "df.isnull().sum()"
   ]
  },
  {
   "cell_type": "code",
   "execution_count": 12,
   "id": "22cf7d28",
   "metadata": {
    "execution": {
     "iopub.execute_input": "2023-02-09T16:23:43.165163Z",
     "iopub.status.busy": "2023-02-09T16:23:43.164733Z",
     "iopub.status.idle": "2023-02-09T16:23:43.170981Z",
     "shell.execute_reply": "2023-02-09T16:23:43.169718Z"
    },
    "papermill": {
     "duration": 0.025407,
     "end_time": "2023-02-09T16:23:43.173590",
     "exception": false,
     "start_time": "2023-02-09T16:23:43.148183",
     "status": "completed"
    },
    "tags": []
   },
   "outputs": [],
   "source": [
    "#because the null data in cabin column is more than 40% we will drop it \n",
    "df.drop('Cabin',axis=1,inplace=True)"
   ]
  },
  {
   "cell_type": "code",
   "execution_count": 13,
   "id": "7dcc4228",
   "metadata": {
    "execution": {
     "iopub.execute_input": "2023-02-09T16:23:43.205582Z",
     "iopub.status.busy": "2023-02-09T16:23:43.204196Z",
     "iopub.status.idle": "2023-02-09T16:23:43.213028Z",
     "shell.execute_reply": "2023-02-09T16:23:43.211858Z"
    },
    "papermill": {
     "duration": 0.028162,
     "end_time": "2023-02-09T16:23:43.216110",
     "exception": false,
     "start_time": "2023-02-09T16:23:43.187948",
     "status": "completed"
    },
    "tags": []
   },
   "outputs": [],
   "source": [
    "#the null in Embarked column very small so i will drop null data in Emparked column\n",
    "df.dropna(subset=['Embarked'],inplace=True)"
   ]
  },
  {
   "cell_type": "code",
   "execution_count": 14,
   "id": "ba5f4ae3",
   "metadata": {
    "execution": {
     "iopub.execute_input": "2023-02-09T16:23:43.249272Z",
     "iopub.status.busy": "2023-02-09T16:23:43.247893Z",
     "iopub.status.idle": "2023-02-09T16:23:43.263881Z",
     "shell.execute_reply": "2023-02-09T16:23:43.262510Z"
    },
    "papermill": {
     "duration": 0.035109,
     "end_time": "2023-02-09T16:23:43.266665",
     "exception": false,
     "start_time": "2023-02-09T16:23:43.231556",
     "status": "completed"
    },
    "tags": []
   },
   "outputs": [],
   "source": [
    "#fill Age column base on the sex and pclass of row\n",
    "df['Age']= df.groupby(['Sex','Pclass'])['Age'].apply(lambda row : row.fillna(row.mean()))"
   ]
  },
  {
   "cell_type": "code",
   "execution_count": 15,
   "id": "05fd4d97",
   "metadata": {
    "execution": {
     "iopub.execute_input": "2023-02-09T16:23:43.298249Z",
     "iopub.status.busy": "2023-02-09T16:23:43.297819Z",
     "iopub.status.idle": "2023-02-09T16:23:43.309028Z",
     "shell.execute_reply": "2023-02-09T16:23:43.308024Z"
    },
    "papermill": {
     "duration": 0.030597,
     "end_time": "2023-02-09T16:23:43.311832",
     "exception": false,
     "start_time": "2023-02-09T16:23:43.281235",
     "status": "completed"
    },
    "tags": []
   },
   "outputs": [
    {
     "data": {
      "text/plain": [
       "0"
      ]
     },
     "execution_count": 15,
     "metadata": {},
     "output_type": "execute_result"
    }
   ],
   "source": [
    "df.isnull().sum().sum()"
   ]
  },
  {
   "cell_type": "markdown",
   "id": "3fa3db12",
   "metadata": {
    "papermill": {
     "duration": 0.014237,
     "end_time": "2023-02-09T16:23:43.340817",
     "exception": false,
     "start_time": "2023-02-09T16:23:43.326580",
     "status": "completed"
    },
    "tags": []
   },
   "source": [
    "<p style=\"color:#2965A5;\n",
    "          font-size:22px;\"> -> Null data handled </p>"
   ]
  },
  {
   "cell_type": "markdown",
   "id": "4ce38279",
   "metadata": {
    "papermill": {
     "duration": 0.013958,
     "end_time": "2023-02-09T16:23:43.369088",
     "exception": false,
     "start_time": "2023-02-09T16:23:43.355130",
     "status": "completed"
    },
    "tags": []
   },
   "source": [
    "<div style=\"color:white;\n",
    "           display:fill;\n",
    "           border-radius:5px;\n",
    "           background-color:#516B87;\n",
    "           font-size:200%;\n",
    "           font-family:Serif;\n",
    "           letter-spacing:0.5px\">\n",
    "\n",
    "<p style=\"padding: 10px;\n",
    "          color:white;\n",
    "          font-size:120%;\n",
    "          text-align:center;\">\n",
    "Data visualization & Getting conclusions\n",
    "</p>\n",
    "</div>"
   ]
  },
  {
   "cell_type": "code",
   "execution_count": 16,
   "id": "e1c60272",
   "metadata": {
    "execution": {
     "iopub.execute_input": "2023-02-09T16:23:43.399828Z",
     "iopub.status.busy": "2023-02-09T16:23:43.399018Z",
     "iopub.status.idle": "2023-02-09T16:23:43.557059Z",
     "shell.execute_reply": "2023-02-09T16:23:43.555570Z"
    },
    "papermill": {
     "duration": 0.176719,
     "end_time": "2023-02-09T16:23:43.560128",
     "exception": false,
     "start_time": "2023-02-09T16:23:43.383409",
     "status": "completed"
    },
    "tags": []
   },
   "outputs": [
    {
     "name": "stderr",
     "output_type": "stream",
     "text": [
      "/opt/conda/lib/python3.7/site-packages/seaborn/_decorators.py:43: FutureWarning: Pass the following variable as a keyword arg: x. From version 0.12, the only valid positional argument will be `data`, and passing other arguments without an explicit keyword will result in an error or misinterpretation.\n",
      "  FutureWarning\n"
     ]
    },
    {
     "data": {
      "image/png": "[encoded data removed]",
      "text/plain": [
       "<Figure size 720x432 with 1 Axes>"
      ]
     },
     "metadata": {
      "needs_background": "light"
     },
     "output_type": "display_data"
    }
   ],
   "source": [
    "plt.figure(figsize=(10,6))\n",
    "sns.countplot('Survived',data=df)\n",
    "plt.show()"
   ]
  },
  {
   "cell_type": "markdown",
   "id": "48a4eacb",
   "metadata": {
    "papermill": {
     "duration": 0.015011,
     "end_time": "2023-02-09T16:23:43.592534",
     "exception": false,
     "start_time": "2023-02-09T16:23:43.577523",
     "status": "completed"
    },
    "tags": []
   },
   "source": [
    "<p style=\"color:#2965A5;\n",
    "          font-size:22px;\"> -> Most passengers not survived </p>\n"
   ]
  },
  {
   "cell_type": "markdown",
   "id": "3bc48c2a",
   "metadata": {
    "papermill": {
     "duration": 0.014588,
     "end_time": "2023-02-09T16:23:43.622497",
     "exception": false,
     "start_time": "2023-02-09T16:23:43.607909",
     "status": "completed"
    },
    "tags": []
   },
   "source": [
    "----------"
   ]
  },
  {
   "cell_type": "code",
   "execution_count": 17,
   "id": "bb3c57bc",
   "metadata": {
    "execution": {
     "iopub.execute_input": "2023-02-09T16:23:43.656076Z",
     "iopub.status.busy": "2023-02-09T16:23:43.655601Z",
     "iopub.status.idle": "2023-02-09T16:23:43.835506Z",
     "shell.execute_reply": "2023-02-09T16:23:43.833920Z"
    },
    "papermill": {
     "duration": 0.200006,
     "end_time": "2023-02-09T16:23:43.838837",
     "exception": false,
     "start_time": "2023-02-09T16:23:43.638831",
     "status": "completed"
    },
    "tags": []
   },
   "outputs": [
    {
     "name": "stderr",
     "output_type": "stream",
     "text": [
      "/opt/conda/lib/python3.7/site-packages/seaborn/_decorators.py:43: FutureWarning: Pass the following variable as a keyword arg: x. From version 0.12, the only valid positional argument will be `data`, and passing other arguments without an explicit keyword will result in an error or misinterpretation.\n",
      "  FutureWarning\n"
     ]
    },
    {
     "data": {
      "image/png": "[encoded data removed]",
      "text/plain": [
       "<Figure size 720x432 with 1 Axes>"
      ]
     },
     "metadata": {
      "needs_background": "light"
     },
     "output_type": "display_data"
    }
   ],
   "source": [
    "plt.figure(figsize=(10,6))\n",
    "sns.countplot('Pclass',data=df)\n",
    "plt.show()"
   ]
  },
  {
   "cell_type": "markdown",
   "id": "431fe2af",
   "metadata": {
    "papermill": {
     "duration": 0.014601,
     "end_time": "2023-02-09T16:23:43.868803",
     "exception": false,
     "start_time": "2023-02-09T16:23:43.854202",
     "status": "completed"
    },
    "tags": []
   },
   "source": [
    "<p style=\"color:#2965A5;\n",
    "          font-size:22px;\"> -> Most passengers was in Pclass '3' </p> \n"
   ]
  },
  {
   "cell_type": "markdown",
   "id": "7974a950",
   "metadata": {
    "papermill": {
     "duration": 0.014517,
     "end_time": "2023-02-09T16:23:43.898321",
     "exception": false,
     "start_time": "2023-02-09T16:23:43.883804",
     "status": "completed"
    },
    "tags": []
   },
   "source": [
    "-------------------------"
   ]
  },
  {
   "cell_type": "code",
   "execution_count": 18,
   "id": "3f700efe",
   "metadata": {
    "execution": {
     "iopub.execute_input": "2023-02-09T16:23:43.930227Z",
     "iopub.status.busy": "2023-02-09T16:23:43.929438Z",
     "iopub.status.idle": "2023-02-09T16:23:44.097140Z",
     "shell.execute_reply": "2023-02-09T16:23:44.095604Z"
    },
    "papermill": {
     "duration": 0.186558,
     "end_time": "2023-02-09T16:23:44.099740",
     "exception": false,
     "start_time": "2023-02-09T16:23:43.913182",
     "status": "completed"
    },
    "tags": []
   },
   "outputs": [
    {
     "name": "stderr",
     "output_type": "stream",
     "text": [
      "/opt/conda/lib/python3.7/site-packages/seaborn/_decorators.py:43: FutureWarning: Pass the following variable as a keyword arg: x. From version 0.12, the only valid positional argument will be `data`, and passing other arguments without an explicit keyword will result in an error or misinterpretation.\n",
      "  FutureWarning\n"
     ]
    },
    {
     "data": {
      "image/png": "[encoded data removed]",
      "text/plain": [
       "<Figure size 720x432 with 1 Axes>"
      ]
     },
     "metadata": {
      "needs_background": "light"
     },
     "output_type": "display_data"
    }
   ],
   "source": [
    "plt.figure(figsize=(10,6))\n",
    "sns.countplot('Sex',data=df)\n",
    "plt.show()"
   ]
  },
  {
   "cell_type": "markdown",
   "id": "4a64d58a",
   "metadata": {
    "papermill": {
     "duration": 0.014962,
     "end_time": "2023-02-09T16:23:44.129982",
     "exception": false,
     "start_time": "2023-02-09T16:23:44.115020",
     "status": "completed"
    },
    "tags": []
   },
   "source": [
    "<p style=\"color:#2965A5;\n",
    "          font-size:22px;\"> -> Most passengers was male </p>\n"
   ]
  },
  {
   "cell_type": "markdown",
   "id": "3a63c18a",
   "metadata": {
    "papermill": {
     "duration": 0.015158,
     "end_time": "2023-02-09T16:23:44.160348",
     "exception": false,
     "start_time": "2023-02-09T16:23:44.145190",
     "status": "completed"
    },
    "tags": []
   },
   "source": [
    "------------------------"
   ]
  },
  {
   "cell_type": "code",
   "execution_count": 19,
   "id": "2f387f1d",
   "metadata": {
    "execution": {
     "iopub.execute_input": "2023-02-09T16:23:44.192688Z",
     "iopub.status.busy": "2023-02-09T16:23:44.192242Z",
     "iopub.status.idle": "2023-02-09T16:23:44.360895Z",
     "shell.execute_reply": "2023-02-09T16:23:44.359445Z"
    },
    "papermill": {
     "duration": 0.187639,
     "end_time": "2023-02-09T16:23:44.363292",
     "exception": false,
     "start_time": "2023-02-09T16:23:44.175653",
     "status": "completed"
    },
    "tags": []
   },
   "outputs": [
    {
     "name": "stderr",
     "output_type": "stream",
     "text": [
      "/opt/conda/lib/python3.7/site-packages/seaborn/_decorators.py:43: FutureWarning: Pass the following variable as a keyword arg: x. From version 0.12, the only valid positional argument will be `data`, and passing other arguments without an explicit keyword will result in an error or misinterpretation.\n",
      "  FutureWarning\n"
     ]
    },
    {
     "data": {
      "image/png": "[encoded data removed]",
      "text/plain": [
       "<Figure size 720x432 with 1 Axes>"
      ]
     },
     "metadata": {
      "needs_background": "light"
     },
     "output_type": "display_data"
    }
   ],
   "source": [
    "plt.figure(figsize=(10,6))\n",
    "sns.countplot('Embarked',data=df)\n",
    "plt.show()"
   ]
  },
  {
   "cell_type": "markdown",
   "id": "e6a21135",
   "metadata": {
    "papermill": {
     "duration": 0.015264,
     "end_time": "2023-02-09T16:23:44.394130",
     "exception": false,
     "start_time": "2023-02-09T16:23:44.378866",
     "status": "completed"
    },
    "tags": []
   },
   "source": [
    "<p style=\"color:#2965A5;\n",
    "          font-size:22px;\"> -> Most passengers emparked from ' Southampton ' </p>\n"
   ]
  },
  {
   "cell_type": "markdown",
   "id": "7ead755b",
   "metadata": {
    "papermill": {
     "duration": 0.015248,
     "end_time": "2023-02-09T16:23:44.425059",
     "exception": false,
     "start_time": "2023-02-09T16:23:44.409811",
     "status": "completed"
    },
    "tags": []
   },
   "source": [
    "-------------------"
   ]
  },
  {
   "cell_type": "code",
   "execution_count": 20,
   "id": "ac4bebeb",
   "metadata": {
    "execution": {
     "iopub.execute_input": "2023-02-09T16:23:44.458168Z",
     "iopub.status.busy": "2023-02-09T16:23:44.457715Z",
     "iopub.status.idle": "2023-02-09T16:23:44.660353Z",
     "shell.execute_reply": "2023-02-09T16:23:44.658963Z"
    },
    "papermill": {
     "duration": 0.223066,
     "end_time": "2023-02-09T16:23:44.663672",
     "exception": false,
     "start_time": "2023-02-09T16:23:44.440606",
     "status": "completed"
    },
    "tags": []
   },
   "outputs": [
    {
     "name": "stderr",
     "output_type": "stream",
     "text": [
      "/opt/conda/lib/python3.7/site-packages/seaborn/_decorators.py:43: FutureWarning: Pass the following variable as a keyword arg: x. From version 0.12, the only valid positional argument will be `data`, and passing other arguments without an explicit keyword will result in an error or misinterpretation.\n",
      "  FutureWarning\n"
     ]
    },
    {
     "data": {
      "image/png": "[encoded data removed]",
      "text/plain": [
       "<Figure size 720x432 with 1 Axes>"
      ]
     },
     "metadata": {
      "needs_background": "light"
     },
     "output_type": "display_data"
    }
   ],
   "source": [
    "plt.figure(figsize=(10,6))\n",
    "sns.countplot('Pclass',hue='Survived',data=df)\n",
    "plt.show()"
   ]
  },
  {
   "cell_type": "markdown",
   "id": "b2555e97",
   "metadata": {
    "papermill": {
     "duration": 0.015552,
     "end_time": "2023-02-09T16:23:44.695354",
     "exception": false,
     "start_time": "2023-02-09T16:23:44.679802",
     "status": "completed"
    },
    "tags": []
   },
   "source": [
    "<p style=\"color:#2965A5;\n",
    "          font-size:22px;\"> -> Most unsurvived passengers was in Pclass '3' </p>\n"
   ]
  },
  {
   "cell_type": "markdown",
   "id": "5360711a",
   "metadata": {
    "papermill": {
     "duration": 0.015607,
     "end_time": "2023-02-09T16:23:44.726873",
     "exception": false,
     "start_time": "2023-02-09T16:23:44.711266",
     "status": "completed"
    },
    "tags": []
   },
   "source": [
    "---------------"
   ]
  },
  {
   "cell_type": "code",
   "execution_count": 21,
   "id": "a1ff1245",
   "metadata": {
    "execution": {
     "iopub.execute_input": "2023-02-09T16:23:44.760985Z",
     "iopub.status.busy": "2023-02-09T16:23:44.759796Z",
     "iopub.status.idle": "2023-02-09T16:23:44.961934Z",
     "shell.execute_reply": "2023-02-09T16:23:44.960294Z"
    },
    "papermill": {
     "duration": 0.221844,
     "end_time": "2023-02-09T16:23:44.964592",
     "exception": false,
     "start_time": "2023-02-09T16:23:44.742748",
     "status": "completed"
    },
    "tags": []
   },
   "outputs": [
    {
     "name": "stderr",
     "output_type": "stream",
     "text": [
      "/opt/conda/lib/python3.7/site-packages/seaborn/_decorators.py:43: FutureWarning: Pass the following variable as a keyword arg: x. From version 0.12, the only valid positional argument will be `data`, and passing other arguments without an explicit keyword will result in an error or misinterpretation.\n",
      "  FutureWarning\n"
     ]
    },
    {
     "data": {
      "image/png": "[encoded data removed]",
      "text/plain": [
       "<Figure size 720x432 with 1 Axes>"
      ]
     },
     "metadata": {
      "needs_background": "light"
     },
     "output_type": "display_data"
    }
   ],
   "source": [
    "plt.figure(figsize=(10,6))\n",
    "sns.countplot('Sex',hue='Survived',data=df)\n",
    "plt.show()"
   ]
  },
  {
   "cell_type": "markdown",
   "id": "7202de50",
   "metadata": {
    "papermill": {
     "duration": 0.016363,
     "end_time": "2023-02-09T16:23:44.997882",
     "exception": false,
     "start_time": "2023-02-09T16:23:44.981519",
     "status": "completed"
    },
    "tags": []
   },
   "source": [
    "<p style=\"color:#2965A5;\n",
    "          font-size:22px;\"> -> Most unsurvived passengers was men </p>\n"
   ]
  },
  {
   "cell_type": "markdown",
   "id": "367f1cb1",
   "metadata": {
    "papermill": {
     "duration": 0.016331,
     "end_time": "2023-02-09T16:23:45.030908",
     "exception": false,
     "start_time": "2023-02-09T16:23:45.014577",
     "status": "completed"
    },
    "tags": []
   },
   "source": [
    "--------------------------------"
   ]
  },
  {
   "cell_type": "code",
   "execution_count": 22,
   "id": "5592b17c",
   "metadata": {
    "execution": {
     "iopub.execute_input": "2023-02-09T16:23:45.067511Z",
     "iopub.status.busy": "2023-02-09T16:23:45.067072Z",
     "iopub.status.idle": "2023-02-09T16:23:45.280291Z",
     "shell.execute_reply": "2023-02-09T16:23:45.279003Z"
    },
    "papermill": {
     "duration": 0.235165,
     "end_time": "2023-02-09T16:23:45.283067",
     "exception": false,
     "start_time": "2023-02-09T16:23:45.047902",
     "status": "completed"
    },
    "tags": []
   },
   "outputs": [
    {
     "name": "stderr",
     "output_type": "stream",
     "text": [
      "/opt/conda/lib/python3.7/site-packages/seaborn/_decorators.py:43: FutureWarning: Pass the following variable as a keyword arg: x. From version 0.12, the only valid positional argument will be `data`, and passing other arguments without an explicit keyword will result in an error or misinterpretation.\n",
      "  FutureWarning\n"
     ]
    },
    {
     "data": {
      "image/png": "[encoded data removed]",
      "text/plain": [
       "<Figure size 720x432 with 1 Axes>"
      ]
     },
     "metadata": {
      "needs_background": "light"
     },
     "output_type": "display_data"
    }
   ],
   "source": [
    "plt.figure(figsize=(10,6))\n",
    "sns.countplot('Embarked',hue='Survived',data=df)\n",
    "plt.show()"
   ]
  },
  {
   "cell_type": "markdown",
   "id": "8b22e393",
   "metadata": {
    "papermill": {
     "duration": 0.016405,
     "end_time": "2023-02-09T16:23:45.316470",
     "exception": false,
     "start_time": "2023-02-09T16:23:45.300065",
     "status": "completed"
    },
    "tags": []
   },
   "source": [
    "<p style=\"color:#2965A5;\n",
    "          font-size:22px;\"> -> Most unsurvived passengers was embarked from ' Southampton ' </p>\n"
   ]
  },
  {
   "cell_type": "markdown",
   "id": "a31d8515",
   "metadata": {
    "papermill": {
     "duration": 0.016279,
     "end_time": "2023-02-09T16:23:45.349495",
     "exception": false,
     "start_time": "2023-02-09T16:23:45.333216",
     "status": "completed"
    },
    "tags": []
   },
   "source": [
    "----------------------"
   ]
  },
  {
   "cell_type": "code",
   "execution_count": 23,
   "id": "c1169946",
   "metadata": {
    "execution": {
     "iopub.execute_input": "2023-02-09T16:23:45.385244Z",
     "iopub.status.busy": "2023-02-09T16:23:45.384839Z",
     "iopub.status.idle": "2023-02-09T16:23:45.737758Z",
     "shell.execute_reply": "2023-02-09T16:23:45.736436Z"
    },
    "papermill": {
     "duration": 0.374301,
     "end_time": "2023-02-09T16:23:45.740393",
     "exception": false,
     "start_time": "2023-02-09T16:23:45.366092",
     "status": "completed"
    },
    "tags": []
   },
   "outputs": [
    {
     "name": "stderr",
     "output_type": "stream",
     "text": [
      "/opt/conda/lib/python3.7/site-packages/seaborn/_decorators.py:43: FutureWarning: Pass the following variable as a keyword arg: x. From version 0.12, the only valid positional argument will be `data`, and passing other arguments without an explicit keyword will result in an error or misinterpretation.\n",
      "  FutureWarning\n"
     ]
    },
    {
     "data": {
      "image/png": "[encoded data removed]",
      "text/plain": [
       "<Figure size 720x432 with 1 Axes>"
      ]
     },
     "metadata": {
      "needs_background": "light"
     },
     "output_type": "display_data"
    }
   ],
   "source": [
    "plt.figure(figsize=(10,6))\n",
    "sns.countplot('Pclass',hue='Embarked',data=df)\n",
    "plt.show()"
   ]
  },
  {
   "cell_type": "markdown",
   "id": "3d75203d",
   "metadata": {
    "papermill": {
     "duration": 0.017217,
     "end_time": "2023-02-09T16:23:45.775028",
     "exception": false,
     "start_time": "2023-02-09T16:23:45.757811",
     "status": "completed"
    },
    "tags": []
   },
   "source": [
    "<p style=\"color:#2965A5;\n",
    "          font-size:22px;\"> -> In 3 Pclasses the most passengers of it were from Southampton </p>\n"
   ]
  },
  {
   "cell_type": "markdown",
   "id": "07a4d906",
   "metadata": {
    "papermill": {
     "duration": 0.016843,
     "end_time": "2023-02-09T16:23:45.808990",
     "exception": false,
     "start_time": "2023-02-09T16:23:45.792147",
     "status": "completed"
    },
    "tags": []
   },
   "source": [
    "------------------------"
   ]
  },
  {
   "cell_type": "code",
   "execution_count": 24,
   "id": "12e227b1",
   "metadata": {
    "execution": {
     "iopub.execute_input": "2023-02-09T16:23:45.845207Z",
     "iopub.status.busy": "2023-02-09T16:23:45.844570Z",
     "iopub.status.idle": "2023-02-09T16:23:46.051034Z",
     "shell.execute_reply": "2023-02-09T16:23:46.049876Z"
    },
    "papermill": {
     "duration": 0.228166,
     "end_time": "2023-02-09T16:23:46.054261",
     "exception": false,
     "start_time": "2023-02-09T16:23:45.826095",
     "status": "completed"
    },
    "tags": []
   },
   "outputs": [
    {
     "name": "stderr",
     "output_type": "stream",
     "text": [
      "/opt/conda/lib/python3.7/site-packages/seaborn/_decorators.py:43: FutureWarning: Pass the following variable as a keyword arg: x. From version 0.12, the only valid positional argument will be `data`, and passing other arguments without an explicit keyword will result in an error or misinterpretation.\n",
      "  FutureWarning\n"
     ]
    },
    {
     "data": {
      "image/png": "[encoded data removed]",
      "text/plain": [
       "<Figure size 720x432 with 1 Axes>"
      ]
     },
     "metadata": {
      "needs_background": "light"
     },
     "output_type": "display_data"
    }
   ],
   "source": [
    "plt.figure(figsize=(10,6))\n",
    "sns.countplot('Embarked',hue='Sex',data=df)\n",
    "plt.show()"
   ]
  },
  {
   "cell_type": "markdown",
   "id": "a2698450",
   "metadata": {
    "papermill": {
     "duration": 0.017765,
     "end_time": "2023-02-09T16:23:46.089775",
     "exception": false,
     "start_time": "2023-02-09T16:23:46.072010",
     "status": "completed"
    },
    "tags": []
   },
   "source": [
    "<p style=\"color:#2965A5;\n",
    "          font-size:22px;\"> -> From 3 Emparked ports , the most passengers of it were men </p>\n"
   ]
  },
  {
   "cell_type": "markdown",
   "id": "643db299",
   "metadata": {
    "papermill": {
     "duration": 0.016956,
     "end_time": "2023-02-09T16:23:46.124084",
     "exception": false,
     "start_time": "2023-02-09T16:23:46.107128",
     "status": "completed"
    },
    "tags": []
   },
   "source": [
    "-----------------------------"
   ]
  },
  {
   "cell_type": "code",
   "execution_count": 25,
   "id": "7692873e",
   "metadata": {
    "execution": {
     "iopub.execute_input": "2023-02-09T16:23:46.160731Z",
     "iopub.status.busy": "2023-02-09T16:23:46.160044Z",
     "iopub.status.idle": "2023-02-09T16:23:46.412020Z",
     "shell.execute_reply": "2023-02-09T16:23:46.410973Z"
    },
    "papermill": {
     "duration": 0.273052,
     "end_time": "2023-02-09T16:23:46.414404",
     "exception": false,
     "start_time": "2023-02-09T16:23:46.141352",
     "status": "completed"
    },
    "tags": []
   },
   "outputs": [
    {
     "data": {
      "image/png": "[encoded data removed]",
      "text/plain": [
       "<Figure size 720x432 with 1 Axes>"
      ]
     },
     "metadata": {
      "needs_background": "light"
     },
     "output_type": "display_data"
    }
   ],
   "source": [
    "plt.figure(figsize=(10,6))\n",
    "sns.histplot(df['Age'])\n",
    "plt.show()"
   ]
  },
  {
   "cell_type": "markdown",
   "id": "5b33484f",
   "metadata": {
    "papermill": {
     "duration": 0.017199,
     "end_time": "2023-02-09T16:23:46.449186",
     "exception": false,
     "start_time": "2023-02-09T16:23:46.431987",
     "status": "completed"
    },
    "tags": []
   },
   "source": [
    "<p style=\"color:#2965A5;\n",
    "          font-size:22px;\"> -> Most passengers were in range [20-35] in age </p>\n"
   ]
  },
  {
   "cell_type": "markdown",
   "id": "d67f046f",
   "metadata": {
    "papermill": {
     "duration": 0.017015,
     "end_time": "2023-02-09T16:23:46.483709",
     "exception": false,
     "start_time": "2023-02-09T16:23:46.466694",
     "status": "completed"
    },
    "tags": []
   },
   "source": [
    "---------------------------------"
   ]
  },
  {
   "cell_type": "code",
   "execution_count": 26,
   "id": "62fc2b4b",
   "metadata": {
    "execution": {
     "iopub.execute_input": "2023-02-09T16:23:46.520772Z",
     "iopub.status.busy": "2023-02-09T16:23:46.520071Z",
     "iopub.status.idle": "2023-02-09T16:23:46.792844Z",
     "shell.execute_reply": "2023-02-09T16:23:46.791574Z"
    },
    "papermill": {
     "duration": 0.294572,
     "end_time": "2023-02-09T16:23:46.795637",
     "exception": false,
     "start_time": "2023-02-09T16:23:46.501065",
     "status": "completed"
    },
    "tags": []
   },
   "outputs": [
    {
     "data": {
      "image/png": "[encoded data removed]",
      "text/plain": [
       "<Figure size 936x504 with 1 Axes>"
      ]
     },
     "metadata": {
      "needs_background": "light"
     },
     "output_type": "display_data"
    }
   ],
   "source": [
    "plt.figure(figsize=(13,7))\n",
    "sns.histplot(df['SibSp'])\n",
    "plt.show()"
   ]
  },
  {
   "cell_type": "markdown",
   "id": "5d839c56",
   "metadata": {
    "papermill": {
     "duration": 0.017489,
     "end_time": "2023-02-09T16:23:46.831170",
     "exception": false,
     "start_time": "2023-02-09T16:23:46.813681",
     "status": "completed"
    },
    "tags": []
   },
   "source": [
    "<p style=\"color:#2965A5;\n",
    "          font-size:22px;\"> -> Most passengers have no siblings or spouses in titanik </p>\n"
   ]
  },
  {
   "cell_type": "markdown",
   "id": "580f8674",
   "metadata": {
    "papermill": {
     "duration": 0.017266,
     "end_time": "2023-02-09T16:23:46.866223",
     "exception": false,
     "start_time": "2023-02-09T16:23:46.848957",
     "status": "completed"
    },
    "tags": []
   },
   "source": [
    "---------------------------------"
   ]
  },
  {
   "cell_type": "code",
   "execution_count": 27,
   "id": "1c5febdc",
   "metadata": {
    "execution": {
     "iopub.execute_input": "2023-02-09T16:23:46.903106Z",
     "iopub.status.busy": "2023-02-09T16:23:46.902687Z",
     "iopub.status.idle": "2023-02-09T16:23:47.165652Z",
     "shell.execute_reply": "2023-02-09T16:23:47.164302Z"
    },
    "papermill": {
     "duration": 0.284929,
     "end_time": "2023-02-09T16:23:47.168744",
     "exception": false,
     "start_time": "2023-02-09T16:23:46.883815",
     "status": "completed"
    },
    "tags": []
   },
   "outputs": [
    {
     "data": {
      "image/png": "[encoded data removed]",
      "text/plain": [
       "<Figure size 936x504 with 1 Axes>"
      ]
     },
     "metadata": {
      "needs_background": "light"
     },
     "output_type": "display_data"
    }
   ],
   "source": [
    "plt.figure(figsize=(13,7))\n",
    "sns.histplot(df['Parch'])\n",
    "plt.show()"
   ]
  },
  {
   "cell_type": "markdown",
   "id": "e7fae963",
   "metadata": {
    "papermill": {
     "duration": 0.017784,
     "end_time": "2023-02-09T16:23:47.207936",
     "exception": false,
     "start_time": "2023-02-09T16:23:47.190152",
     "status": "completed"
    },
    "tags": []
   },
   "source": [
    "<p style=\"color:#2965A5;\n",
    "          font-size:22px;\"> -> Most passengers have no  parents in children titanik </p>\n"
   ]
  },
  {
   "cell_type": "markdown",
   "id": "124ebcf3",
   "metadata": {
    "papermill": {
     "duration": 0.019651,
     "end_time": "2023-02-09T16:23:47.245459",
     "exception": false,
     "start_time": "2023-02-09T16:23:47.225808",
     "status": "completed"
    },
    "tags": []
   },
   "source": [
    "-------------------------------"
   ]
  },
  {
   "cell_type": "code",
   "execution_count": 28,
   "id": "1f84ac4b",
   "metadata": {
    "execution": {
     "iopub.execute_input": "2023-02-09T16:23:47.283329Z",
     "iopub.status.busy": "2023-02-09T16:23:47.282639Z",
     "iopub.status.idle": "2023-02-09T16:23:50.526331Z",
     "shell.execute_reply": "2023-02-09T16:23:50.525114Z"
    },
    "papermill": {
     "duration": 3.26568,
     "end_time": "2023-02-09T16:23:50.528966",
     "exception": false,
     "start_time": "2023-02-09T16:23:47.263286",
     "status": "completed"
    },
    "tags": []
   },
   "outputs": [
    {
     "name": "stderr",
     "output_type": "stream",
     "text": [
      "/opt/conda/lib/python3.7/site-packages/seaborn/_decorators.py:43: FutureWarning: Pass the following variable as a keyword arg: x. From version 0.12, the only valid positional argument will be `data`, and passing other arguments without an explicit keyword will result in an error or misinterpretation.\n",
      "  FutureWarning\n",
      "/opt/conda/lib/python3.7/site-packages/seaborn/categorical.py:1296: UserWarning: 41.8% of the points cannot be placed; you may want to decrease the size of the markers or use stripplot.\n",
      "  warnings.warn(msg, UserWarning)\n"
     ]
    },
    {
     "data": {
      "image/png": "[encoded data removed]",
      "text/plain": [
       "<Figure size 720x432 with 1 Axes>"
      ]
     },
     "metadata": {
      "needs_background": "light"
     },
     "output_type": "display_data"
    }
   ],
   "source": [
    "plt.figure(figsize=(10,6))\n",
    "sns.swarmplot(df['Fare'])\n",
    "plt.show()"
   ]
  },
  {
   "cell_type": "markdown",
   "id": "5d468d02",
   "metadata": {
    "execution": {
     "iopub.execute_input": "2023-02-09T02:48:13.711110Z",
     "iopub.status.busy": "2023-02-09T02:48:13.710673Z",
     "iopub.status.idle": "2023-02-09T02:48:13.718385Z",
     "shell.execute_reply": "2023-02-09T02:48:13.716757Z",
     "shell.execute_reply.started": "2023-02-09T02:48:13.711077Z"
    },
    "papermill": {
     "duration": 0.018474,
     "end_time": "2023-02-09T16:23:50.566562",
     "exception": false,
     "start_time": "2023-02-09T16:23:50.548088",
     "status": "completed"
    },
    "tags": []
   },
   "source": [
    "<p style=\"color:#2965A5;\n",
    "          font-size:22px;\"> -> Most fares of passengers was under 100 $ </p>\n"
   ]
  },
  {
   "cell_type": "markdown",
   "id": "1ad0ed19",
   "metadata": {
    "papermill": {
     "duration": 0.02067,
     "end_time": "2023-02-09T16:23:50.606043",
     "exception": false,
     "start_time": "2023-02-09T16:23:50.585373",
     "status": "completed"
    },
    "tags": []
   },
   "source": [
    "--------------\n",
    "<p style=\"background-color:#808E9C;color:white;font-size:200%;\"> Darta correlatin </p>"
   ]
  },
  {
   "cell_type": "code",
   "execution_count": 29,
   "id": "0c1a38e9",
   "metadata": {
    "execution": {
     "iopub.execute_input": "2023-02-09T16:23:50.647694Z",
     "iopub.status.busy": "2023-02-09T16:23:50.646435Z",
     "iopub.status.idle": "2023-02-09T16:23:51.054361Z",
     "shell.execute_reply": "2023-02-09T16:23:51.053383Z"
    },
    "papermill": {
     "duration": 0.431002,
     "end_time": "2023-02-09T16:23:51.056855",
     "exception": false,
     "start_time": "2023-02-09T16:23:50.625853",
     "status": "completed"
    },
    "tags": []
   },
   "outputs": [
    {
     "data": {
      "image/png": "[encoded data removed]",
      "text/plain": [
       "<Figure size 720x504 with 2 Axes>"
      ]
     },
     "metadata": {
      "needs_background": "light"
     },
     "output_type": "display_data"
    }
   ],
   "source": [
    "plt.figure(figsize=(10,7))\n",
    "sns.heatmap(df.corr(),annot=True)\n",
    "plt.show()"
   ]
  },
  {
   "cell_type": "markdown",
   "id": "75ba3d87",
   "metadata": {
    "papermill": {
     "duration": 0.019679,
     "end_time": "2023-02-09T16:23:51.096139",
     "exception": false,
     "start_time": "2023-02-09T16:23:51.076460",
     "status": "completed"
    },
    "tags": []
   },
   "source": [
    "----------------"
   ]
  },
  {
   "cell_type": "code",
   "execution_count": 30,
   "id": "406d1f0e",
   "metadata": {
    "execution": {
     "iopub.execute_input": "2023-02-09T16:23:51.138234Z",
     "iopub.status.busy": "2023-02-09T16:23:51.137261Z",
     "iopub.status.idle": "2023-02-09T16:23:58.142894Z",
     "shell.execute_reply": "2023-02-09T16:23:58.141575Z"
    },
    "papermill": {
     "duration": 7.032631,
     "end_time": "2023-02-09T16:23:58.148286",
     "exception": false,
     "start_time": "2023-02-09T16:23:51.115655",
     "status": "completed"
    },
    "tags": []
   },
   "outputs": [
    {
     "data": {
      "image/png": "[encoded data removed]",
      "text/plain": [
       "<Figure size 951.875x900 with 30 Axes>"
      ]
     },
     "metadata": {
      "needs_background": "light"
     },
     "output_type": "display_data"
    }
   ],
   "source": [
    "#very important plot\n",
    "sns.pairplot(hue='Survived',data=df)\n",
    "plt.show()"
   ]
  }
 ],
 "metadata": {
  "kernelspec": {
   "display_name": "Python 3",
   "language": "python",
   "name": "python3"
  },
  "language_info": {
   "codemirror_mode": {
    "name": "ipython",
    "version": 3
   },
   "file_extension": ".py",
   "mimetype": "text/x-python",
   "name": "python",
   "nbconvert_exporter": "python",
   "pygments_lexer": "ipython3",
   "version": "3.7.12"
  },
  "papermill": {
   "default_parameters": {},
   "duration": 29.53131,
   "end_time": "2023-02-09T16:23:59.095110",
   "environment_variables": {},
   "exception": null,
   "input_path": "__notebook__.ipynb",
   "output_path": "__notebook__.ipynb",
   "parameters": {},
   "start_time": "2023-02-09T16:23:29.563800",
   "version": "2.3.4"
  }
 },
 "nbformat": 4,
 "nbformat_minor": 5
}
